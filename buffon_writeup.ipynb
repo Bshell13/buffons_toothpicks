{
 "cells": [
  {
   "cell_type": "markdown",
   "metadata": {},
   "source": [
    "# Buffon's Toothpick Classroom Experiment\n",
    "### Brandon Shellenberger\n",
    "In this experiment, Buffon wanted to know the probability a needle intersecting atleast one line of a set of parallel lines when dropped from a random hieght. These lines are spaced evenly at a distance equal to the length of the needle being used. Buffon used different variables like the angle at which the needle dropped relative to the parallel lines, distance from the center of the needle to the closest line, the length of the needle, and the distance between parallel lines.\n",
    "\n",
    "Below is the link to the instructions and the excel file for the students to record their drops.<br>\n",
    "[Buffon's Analysis Instructions](buffons_analysis_instructions.docx)<br>\n",
    "[Buffon's Analysis for each Group](buffons_analysis_student.xlsx)<br>\n",
    "\n",
    "### Questions to be answered\n",
    "These will be the questions answered throughout the project:\n",
    "1. What is the average number of toothpicks that are intersecting a line?\n",
    "2. Which student has the best average of a toothpick intersecting a line?\n",
    "3. Which class had the beset average of a toothpick intersecting a line?\n",
    "4. What is the propability of a single toothpick intersecting a line?"
   ]
  },
  {
   "cell_type": "markdown",
   "metadata": {},
   "source": [
    "## Importing Libraries"
   ]
  },
  {
   "cell_type": "code",
   "execution_count": null,
   "metadata": {},
   "outputs": [],
   "source": [
    "# Import Libraries\n",
    "import math\n",
    "import statistics as stat\n",
    "import numpy as np\n",
    "import pandas as pd\n",
    "import matplotlib.pyplot as plt\n",
    "import seaborn as sns"
   ]
  },
  {
   "cell_type": "markdown",
   "metadata": {},
   "source": [
    "## Retrieving and Describing the Data"
   ]
  },
  {
   "cell_type": "code",
   "execution_count": null,
   "metadata": {},
   "outputs": [],
   "source": [
    "data = 'test.csv'\n",
    "df = pd.read_csv(data)\n",
    "print(df.head())\n",
    "print(df.describe())"
   ]
  },
  {
   "cell_type": "code",
   "execution_count": null,
   "metadata": {},
   "outputs": [],
   "source": [
    "sns.barplot(data=df, x='block', y='toothpicks_intersected')\n",
    "plt.ylabel('Avgerage Toothpicks Intersected')\n",
    "plt.xlabel('Block')\n",
    "plt.title('Average Toothpicks Intersecting Lines per Block')\n",
    "plt.show()"
   ]
  },
  {
   "cell_type": "code",
   "execution_count": null,
   "metadata": {},
   "outputs": [],
   "source": [
    "#Finding the probability\n",
    "prob = (len(df['toothpicks_intersected']) * 10) / df['toothpicks_intersected'].sum() * 2\n",
    "\n",
    "print(f'The probability of a toothpick landing on a line is: {prob}')"
   ]
  },
  {
   "cell_type": "code",
   "execution_count": null,
   "metadata": {},
   "outputs": [],
   "source": [
    "#plotting the theoretical value.\n",
    "total_intersected = 0\n",
    "total = 0\n",
    "df['theoretical_value'] = 0\n",
    "for index in range(0,len(df['toothpicks_intersected'])):\n",
    "    total += 10\n",
    "    total_intersected += df['toothpicks_intersected'][index]\n",
    "    df['theoretical_value'][index] = (total / total_intersected) * 2\n",
    "\n",
    "sns.lineplot(data=df, x=df.index, y='theoretical_value')\n",
    "plt.xlabel('Order of Records Inputted')\n",
    "plt.ylabel('Theoretical Probability')\n",
    "plt.title('Theoretical Probability of Toothpicks Intersecting')\n",
    "plt.show()"
   ]
  }
 ],
 "metadata": {
  "language_info": {
   "name": "python"
  }
 },
 "nbformat": 4,
 "nbformat_minor": 2
}
